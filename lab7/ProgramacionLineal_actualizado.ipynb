{
  "nbformat": 4,
  "nbformat_minor": 0,
  "metadata": {
    "colab": {
      "provenance": [],
      "collapsed_sections": []
    },
    "kernelspec": {
      "name": "python3",
      "display_name": "Python 3"
    },
    "language_info": {
      "name": "python"
    }
  },
  "cells": [
    {
      "cell_type": "markdown",
      "source": [
        "<h1>Algunos de los conceptos Matematicos involucrados<h1/>\n",
        "\n",
        "Tenemos el sig sistema de ecuaciones =\n",
        "$\n",
        "\\left\\{\\begin{matrix}\n",
        "a_{11}x_{1} & + & & a_{12}x_{2}  & + & ... & + & a_{1n}x_{n} & = & b_{1}& \\\\ \n",
        "a_{21}x_{1} & + & & a_{22}x_{2}  & + & ... & + & a_{2n}x_{n} & = & b_{2}& \\\\ \n",
        "\\vdots & \\vdots & & \\vdots  & \\vdots & \\vdots & \\vdots & \\vdots & \\vdots & \\vdots&\\\\ \n",
        "a_{m1}x_{1} & + & & a_{m2}x_{2}  & + & ... & + & a_{mn}x_{n} & = & b_{m}&\n",
        "\\end{matrix}\\right.\n",
        "$\n",
        "\n",
        "$\\Rightarrow$ podemos expresarlo matricialmente como: $Ax = b$ con: \n",
        "* $A \\in \\mathbb{R^{m\\times n}}$, \n",
        "* $x \\in \\mathbb{R^{n}}$ y $b \\in \\mathbb{R^{m}} $ \n",
        "* $m < n$\n",
        "\n",
        "<br/>\n",
        "\n",
        "$Definicion$\n",
        "\n",
        "**Solucion basica**: Dado un conjunto de $m$ ecuaciones lineales con $n$ incognitas, se llamara **base** a cualquier submatriz $B$, $m \\times m$ de $A$, no singular, **formada por m columnas independientes de $A$.**\n",
        "\n",
        "Sea $N$ la submatriz $m \\times (n-m)$ de $A$, fromada por las columnas restantes.\n",
        "\n",
        "$\\therefore$ podemos escribir $A$ particionada $ie$ $A = \\left [B | N \\right]$ y $ x = \n",
        "\\begin{bmatrix}\n",
        "x_{B}\\\\ \n",
        "x_{N}\n",
        "\\end{bmatrix}\n",
        "$ $\\Rightarrow$  $\\left [B | N \\right] * \\begin{bmatrix}\n",
        "x_{B}\\\\ \n",
        "x_{N}\n",
        "\\end{bmatrix} = Bx_{B} + Nx_{N} = b $\n",
        "\n",
        "luego $x_{B} = B^{-1}b-B^{-1}Nx_{N}$.\n",
        "\n",
        "si $x = (x_{B}, x_{N}) = (B^{-1}b-B^{-1}Nx_{N},  x_{N})  : x_{N} = 0$ es llamada **solucion basica** con respecto a la base $B$, las componentes de $x_{B}$ son llamadas **componentes basicas** de $x$ y las componentes de $x_{N}$ son llamadas **componentes no basicas** de $x$ \n",
        "\n",
        "<br/>\n",
        "\n",
        "$Definicion$\n",
        "\n",
        "**Region factible:** Denotaremos por $\\Omega$ al conjunto que satisface las restricciones de un problema de PL. \n",
        "\n",
        "$\\Omega$ tendra el **nombre de region factible.**\n",
        "\n",
        "$\\therefore \\Omega = \\left \\{ x|Ax=b, x \\geq 0  \\right \\}$\n",
        "\n",
        "<br/>\n",
        "\n",
        "$Definicion$\n",
        "\n",
        "**Solucion basica factible:** Una solucion $x$ que pertenece al conjunto $\\Omega$ **se dice factible para el sistema**. Si ademas esa solucion $x$ es basica $\\Rightarrow$ se llama **solucion basica factible**.\n",
        "\n",
        "<br/>\n",
        "\n",
        "$Definicion$\n",
        "\n",
        "**Solucion basica factible optima:** Sera la solucion basica factible que da el valor optimo para la funcion objetivo.\n",
        "\n",
        "<br/>\n",
        "\n",
        "$Teorema $\n",
        "\n",
        "**Teorema Fundamental de Programacion Lineal:**\n",
        "\n",
        "Dado un problema de PL en forma estandar, donde $A \\in \\mathbb{R^{m\\times n}}$, tiene rango $m$ luego:\n",
        "\n",
        "$i$) si $\\exists$ una solucion factible $\\Rightarrow$ $\\exists$ una solucion basica factible.\n",
        "\n",
        "$ii$) si $\\exists$ una solucion factible optima $\\Rightarrow$ $\\exists$ una solucion basica factible optima.\n",
        "\n",
        "<br/>\n",
        "\n",
        "$Teorema $\n",
        "\n",
        "Sea $\\Omega$ la región factible. \n",
        "Un vector $x$ es un punto extremo de $\\Omega \\Leftrightarrow$ es una solución básica factible de $\\Omega$.\n",
        "\n",
        "<br/>\n",
        "\n",
        "$Corolario$\n",
        "\n",
        "Si $\\exists$ una solución óptima de un problema de programación lineal $\\Rightarrow$ $\\exists$ una solución óptima finita que es un punto extremo de $\\Omega$.\n",
        "\n",
        "-----\n",
        "\n",
        "<h1>IDEA DEL PROCEDIMIENTO:<h1/>\n",
        "\n",
        "Si encontramos las soluciones basicas factibles de $\\Omega \\Rightarrow$  dichas soluciones seran los puntos extremos de $\\Omega$ por el Teorema $\\therefore$ si $\\exists$ una solucion optima $\\Rightarrow$ dicha solucion sera alguno de los puntos extremos de $\\Omega$.\n",
        "\n"
      ],
      "metadata": {
        "id": "8h2z4F3OIqr4"
      }
    },
    {
      "cell_type": "code",
      "source": [
        "import numpy as np\n",
        "import matplotlib.pyplot as plt\n",
        "from scipy import optimize"
      ],
      "metadata": {
        "id": "I2SGjUI32PrZ"
      },
      "execution_count": 1,
      "outputs": []
    },
    {
      "cell_type": "markdown",
      "source": [
        "# Ejercicio 1\n",
        "\n",
        "<h2>Una persona debe comprar fertilizantes (abono) para sus campos. Le informaron que cada kilogramo de fertilizante le alcanza para 10m2 de su campo, y debido a las caracterısticas propias de esas tierras, el fertilizante debe contener (al menos): 3g de fosforo (P), 1.5g de nitrogeno (N) y 4g de potasio (K) por cada 10m2. En el mercado existen 2 tipos de fertilizantes: T1 y T2. El fertilizante T1 contiene 3g de P, 1g de N y 8g de K y cuesta $\\$$10 por kilogramo. En cambio, el fertilizante T2 contiene 2g de P, 3g de N y 2g de K y cuesta $\\$$8 por kilogramo. ¿cuantos kilogramos de cada fertilizante se debe comprar, por cada 10m2 de campo, de modo de minimizar el costo total, cubriendo los requerimientos\n",
        "de su suelo?. \n",
        "Graficar la region factible para el problema.\n",
        "<h2/>"
      ],
      "metadata": {
        "id": "x1q1AY7ivwvd"
      }
    },
    {
      "cell_type": "markdown",
      "source": [
        "Procedemos a modelar el problema\n",
        "\n",
        "<br/>\n",
        "\n",
        "En resumen:\n",
        "\n",
        "|Componente| Cantidad de Fertilizante T1| Cantidad de Fertilizante T2 |\n",
        "|----|----|-----|\n",
        "|Potasio| 8g|2g|\n",
        "|Fosforo|3g|2g|\n",
        "|Nitrogeno|1g|3g|\n",
        "|**Precio**|$\\$$10|$\\$$8|\n",
        "\n"
      ],
      "metadata": {
        "id": "u851HfMZwRe-"
      }
    },
    {
      "cell_type": "markdown",
      "source": [
        "El fertilizante debe contener (al menos): \n",
        "* 3g de fosforo (P). \n",
        "* 1.5g de nitrogeno (N). \n",
        "* 4g de potasio (K) por cada 10m2.\n",
        "\n",
        "$\\therefore$ tenemos las siguientes desigualdades que se corresponden a nuestra region factible $\\Omega$.\n",
        "\n",
        "<br/>\n",
        "\n",
        "<h2>\n",
        "$\\left\\{\\begin{matrix}\n",
        " &  8*T_{1} + 2*T_{2} \\geqslant 4 (K)   & \\\\ \n",
        " & 3*T_{1} + 2*T_{2} \\geqslant 3 (P) & \\\\ \n",
        " & 1*T_{1} + 3*T_{2} \\geqslant 1.5 (N) & \n",
        "\\end{matrix}\\right.\n",
        "$ \n",
        "<h2/>\n",
        "o \n",
        "<h2>\n",
        "$\\left\\{\\begin{matrix}\n",
        " &  -8*T_{1} - 2*T_{2} \\leq   -4 (K)   & \\\\ \n",
        " & -3*T_{1} - 2*T_{2} \\leq  -3 (P) & \\\\ \n",
        " & -1*T_{1} - 3*T_{2} \\leq  -1.5 (N) & \n",
        "\\end{matrix}\\right.\n",
        "$ \n",
        "<h2/>\n",
        "\n",
        "\n",
        "Ahora procedemos a introducir los coeff que acompanana a las variables $T_{1}$ y $T_{2}$ en una matriz que es lo que esperara el **metodo simplex de scipy** para hallar la solucion.\n",
        "\n",
        "$\\Rightarrow$ Nuestra matriz quedaria:\n",
        "\n",
        "<h2>\n",
        "$A=\n",
        "\\begin{pmatrix}\n",
        " -8 & -2\\\\ \n",
        "-3 & -2\\\\ \n",
        " -1 & -3\n",
        "\\end{pmatrix}\n",
        "$\n",
        "<h2/>\n",
        "Y ademas\n",
        "<h2>\n",
        "$B=\n",
        "\\begin{pmatrix}\n",
        "-4\\\\ \n",
        "-3\\\\ \n",
        "-1.5\n",
        "\\end{pmatrix}\n",
        "$\n",
        "<h2/>\n",
        "\n",
        "Por otro lado, estamos interesados en minimizar el costo total en fertilizantes $\\therefore$ nuestra funcion a minimizar es $C= f(x)= 10*T_{1} + 8*T_{2}$\n",
        "\n"
      ],
      "metadata": {
        "id": "4MlBu_IayJzS"
      }
    },
    {
      "cell_type": "markdown",
      "source": [
        "Ahora como este problema es de 2 dimensiones $\\therefore$ vamos a poder graficar la region factible, la cual sera las intersecciones de cada una de las restricciones."
      ],
      "metadata": {
        "id": "vGGIsWnJcU7A"
      }
    },
    {
      "cell_type": "code",
      "execution_count": 2,
      "metadata": {
        "id": "8SgJm1kiL6-9",
        "colab": {
          "base_uri": "https://localhost:8080/",
          "height": 0
        },
        "outputId": "b9e40261-5c55-41e8-df7f-16f6e872d25e"
      },
      "outputs": [
        {
          "output_type": "stream",
          "name": "stdout",
          "text": [
            "Este es el resultado      con: array([], dtype=float64)\n",
            "     fun: 10.285714286964714\n",
            " message: 'Optimization terminated successfully.'\n",
            "     nit: 5\n",
            "   slack: array([3.28571429e+00, 2.57661448e-10, 7.71110953e-10])\n",
            "  status: 0\n",
            " success: True\n",
            "       x: array([0.85714286, 0.21428571])\n"
          ]
        }
      ],
      "source": [
        "c = np.array([10.,8])\n",
        "A_ub = np.array([\n",
        "                [-8, -2],\n",
        "                [-3, -2],\n",
        "                [-1, -3]\n",
        "                ]\n",
        "                )\n",
        "b_ub =np.array([-4, -3, -1.5])\n",
        "\n",
        "solucion = optimize.linprog(c, A_ub, b_ub)\n",
        "\n",
        "\n",
        "print(f\"Este es el resultado {solucion}\")\n",
        "\n",
        "x = np.linspace(0, 2)\n",
        "\n",
        "#corresponde a las condiciones\n",
        "cond_p = -1.5 * x + 1.5\n",
        "cond_n = -1/3 * x + 0.5\n",
        "cond_k = -4 * x + 2\n",
        "\n",
        "#Esto es una cota, para que quede lindo nomas\n",
        "y2 = 4"
      ]
    },
    {
      "cell_type": "markdown",
      "source": [
        "Dicha region corresponde a la restriccion de fosforo."
      ],
      "metadata": {
        "id": "rWaBVpGyckhG"
      }
    },
    {
      "cell_type": "code",
      "source": [
        "plt.plot(x, cond_p, color=\"red\")\n",
        "plt.fill_between(x, cond_p, y2)\n",
        "plt.show()"
      ],
      "metadata": {
        "colab": {
          "base_uri": "https://localhost:8080/",
          "height": 265
        },
        "id": "BUliPEzMEkLP",
        "outputId": "ffb6460a-79c9-450c-818d-00568b2c1e22"
      },
      "execution_count": 13,
      "outputs": [
        {
          "output_type": "display_data",
          "data": {
            "text/plain": [
              "<Figure size 432x288 with 1 Axes>"
            ],
            "image/png": "[encoded data removed]"
          },
          "metadata": {
            "needs_background": "light"
          }
        }
      ]
    },
    {
      "cell_type": "markdown",
      "source": [
        "Dicha region corresponde a la restriccion de nitrogeno."
      ],
      "metadata": {
        "id": "bPknTL_xcpcw"
      }
    },
    {
      "cell_type": "code",
      "source": [
        "plt.plot(x, cond_n, color=\"red\")\n",
        "plt.fill_between(x, cond_n, y2)\n",
        "plt.show()"
      ],
      "metadata": {
        "colab": {
          "base_uri": "https://localhost:8080/",
          "height": 265
        },
        "id": "8NHR-GOlEGDQ",
        "outputId": "ba2b2923-327c-4fe3-a7a5-52d2ead2b3a8"
      },
      "execution_count": 12,
      "outputs": [
        {
          "output_type": "display_data",
          "data": {
            "text/plain": [
              "<Figure size 432x288 with 1 Axes>"
            ],
            "image/png": "[encoded data removed]"
          },
          "metadata": {
            "needs_background": "light"
          }
        }
      ]
    },
    {
      "cell_type": "markdown",
      "source": [
        "Dicha region corresponde a la restriccion de potasio."
      ],
      "metadata": {
        "id": "X1h34r95ctUm"
      }
    },
    {
      "cell_type": "code",
      "source": [
        "plt.plot(x, cond_k, color=\"red\")\n",
        "plt.fill_between(x, cond_k, y2)\n",
        "plt.show()"
      ],
      "metadata": {
        "colab": {
          "base_uri": "https://localhost:8080/",
          "height": 265
        },
        "id": "CyfEN7FUFN9D",
        "outputId": "cef265ca-00bc-4975-e0e8-9ef6d7ab487d"
      },
      "execution_count": 11,
      "outputs": [
        {
          "output_type": "display_data",
          "data": {
            "text/plain": [
              "<Figure size 432x288 with 1 Axes>"
            ],
            "image/png": "[encoded data removed]"
          },
          "metadata": {
            "needs_background": "light"
          }
        }
      ]
    },
    {
      "cell_type": "markdown",
      "source": [
        "$\\therefore$ La interseccion de todas las restricciones resulta en la siguiente region factible:\n",
        "\n",
        "Y como nuestra solucion optima factible se encuentra en los vertices $\\Rightarrow$ dicha solucion basica factible sera alguno de los vertices, podemos corroborarlo:"
      ],
      "metadata": {
        "id": "dvq1JMGpczr5"
      }
    },
    {
      "cell_type": "code",
      "source": [
        "max_restriccion = np.maximum(cond_p, cond_n)\n",
        "max_restriccion = np.maximum(max_restriccion, cond_k)\n",
        "plt.plot(solucion.x[0], solucion.x[1], \"*\", color=\"red\")\n",
        "plt.fill_between(x, max_restriccion, y2)\n",
        "plt.show()"
      ],
      "metadata": {
        "colab": {
          "base_uri": "https://localhost:8080/",
          "height": 265
        },
        "id": "ElXUgS-vFaVp",
        "outputId": "5a573845-7682-435b-9759-9fac6a26aa1a"
      },
      "execution_count": 19,
      "outputs": [
        {
          "output_type": "display_data",
          "data": {
            "text/plain": [
              "<Figure size 432x288 with 1 Axes>"
            ],
            "image/png": "[encoded data removed]"
          },
          "metadata": {
            "needs_background": "light"
          }
        }
      ]
    },
    {
      "cell_type": "markdown",
      "source": [
        "Podemos ver los valores de cto deberiamos comprar de fertilizante $T_{1}$ y $T_{2}$ en el atributo x, tmb podemos ver cual es el valor de nuestra funcion objetivo en el atributo fun."
      ],
      "metadata": {
        "id": "HEGU_CuKdvKw"
      }
    },
    {
      "cell_type": "code",
      "source": [
        "solucion"
      ],
      "metadata": {
        "colab": {
          "base_uri": "https://localhost:8080/",
          "height": 0
        },
        "id": "kR0nFbnvdjWj",
        "outputId": "5c3de5f8-06e1-47d7-baea-ead4eb7fb92a"
      },
      "execution_count": 21,
      "outputs": [
        {
          "output_type": "execute_result",
          "data": {
            "text/plain": [
              "     con: array([], dtype=float64)\n",
              "     fun: 10.285714286964714\n",
              " message: 'Optimization terminated successfully.'\n",
              "     nit: 5\n",
              "   slack: array([3.28571429e+00, 2.57661448e-10, 7.71110953e-10])\n",
              "  status: 0\n",
              " success: True\n",
              "       x: array([0.85714286, 0.21428571])"
            ]
          },
          "metadata": {},
          "execution_count": 21
        }
      ]
    },
    {
      "cell_type": "markdown",
      "source": [
        "# Ejercicio 2\n",
        "\n",
        "Transporte de mercaderıa. Una empresa cosechadora y proveedora de mani debe llevar su produccion (almacenada en 100 molinos) a sus clientes (100 locales diferentes). En la matriz del archivo costos.dat, el elemento i, j representa el costo de enviar la produccion desde el deposito i al cliente j. El vector en stock.dat representa el stock en cada deposito y los elementos de demanda.dat indican la demanda de cada cliente. Minimizar el costo de transportar el producto de los depositos a los clientes, sujeto al stock de cada deposito,\n",
        "para poder satisfacer la demanda de cada cliente.\n",
        "\n",
        "\n",
        "$min \\sum_{i,j}c_{ij}x_{ij}$\n",
        "\n",
        "$\\sum_{j}x_{ij} \\leq s_{i} \\forall i$\n",
        "\n",
        "$\\sum_{i}x_{ij} \\ge d_{j} \\forall j$\n",
        "\n",
        "$x_{ij} \\ge 0 \\forall  i,j $\n",
        "\n",
        "\n"
      ],
      "metadata": {
        "id": "wnqiSkgJeKxW"
      }
    },
    {
      "cell_type": "code",
      "source": [
        "# cargo desde el disco los datos\n",
        "from google.colab import files\n",
        "uploaded = files.upload()"
      ],
      "metadata": {
        "colab": {
          "base_uri": "https://localhost:8080/",
          "height": 142
        },
        "id": "x3MWEGXeeNkr",
        "outputId": "9d26cd74-1a9f-4dca-c6ef-48e96db9dbae"
      },
      "execution_count": 22,
      "outputs": [
        {
          "output_type": "display_data",
          "data": {
            "text/plain": [
              "<IPython.core.display.HTML object>"
            ],
            "text/html": [
              "\n",
              "     <input type=\"file\" id=\"files-727888fa-550d-42a6-aeb5-b09bb47e159a\" name=\"files[]\" multiple disabled\n",
              "        style=\"border:none\" />\n",
              "     <output id=\"result-727888fa-550d-42a6-aeb5-b09bb47e159a\">\n",
              "      Upload widget is only available when the cell has been executed in the\n",
              "      current browser session. Please rerun this cell to enable.\n",
              "      </output>\n",
              "      <script>// Copyright 2017 Google LLC\n",
              "//\n",
              "// Licensed under the Apache License, Version 2.0 (the \"License\");\n",
              "// you may not use this file except in compliance with the License.\n",
              "// You may obtain a copy of the License at\n",
              "//\n",
              "//      http://www.apache.org/licenses/LICENSE-2.0\n",
              "//\n",
              "// Unless required by applicable law or agreed to in writing, software\n",
              "// distributed under the License is distributed on an \"AS IS\" BASIS,\n",
              "// WITHOUT WARRANTIES OR CONDITIONS OF ANY KIND, either express or implied.\n",
              "// See the License for the specific language governing permissions and\n",
              "// limitations under the License.\n",
              "\n",
              "/**\n",
              " * @fileoverview Helpers for google.colab Python module.\n",
              " */\n",
              "(function(scope) {\n",
              "function span(text, styleAttributes = {}) {\n",
              "  const element = document.createElement('span');\n",
              "  element.textContent = text;\n",
              "  for (const key of Object.keys(styleAttributes)) {\n",
              "    element.style[key] = styleAttributes[key];\n",
              "  }\n",
              "  return element;\n",
              "}\n",
              "\n",
              "// Max number of bytes which will be uploaded at a time.\n",
              "const MAX_PAYLOAD_SIZE = 100 * 1024;\n",
              "\n",
              "function _uploadFiles(inputId, outputId) {\n",
              "  const steps = uploadFilesStep(inputId, outputId);\n",
              "  const outputElement = document.getElementById(outputId);\n",
              "  // Cache steps on the outputElement to make it available for the next call\n",
              "  // to uploadFilesContinue from Python.\n",
              "  outputElement.steps = steps;\n",
              "\n",
              "  return _uploadFilesContinue(outputId);\n",
              "}\n",
              "\n",
              "// This is roughly an async generator (not supported in the browser yet),\n",
              "// where there are multiple asynchronous steps and the Python side is going\n",
              "// to poll for completion of each step.\n",
              "// This uses a Promise to block the python side on completion of each step,\n",
              "// then passes the result of the previous step as the input to the next step.\n",
              "function _uploadFilesContinue(outputId) {\n",
              "  const outputElement = document.getElementById(outputId);\n",
              "  const steps = outputElement.steps;\n",
              "\n",
              "  const next = steps.next(outputElement.lastPromiseValue);\n",
              "  return Promise.resolve(next.value.promise).then((value) => {\n",
              "    // Cache the last promise value to make it available to the next\n",
              "    // step of the generator.\n",
              "    outputElement.lastPromiseValue = value;\n",
              "    return next.value.response;\n",
              "  });\n",
              "}\n",
              "\n",
              "/**\n",
              " * Generator function which is called between each async step of the upload\n",
              " * process.\n",
              " * @param {string} inputId Element ID of the input file picker element.\n",
              " * @param {string} outputId Element ID of the output display.\n",
              " * @return {!Iterable<!Object>} Iterable of next steps.\n",
              " */\n",
              "function* uploadFilesStep(inputId, outputId) {\n",
              "  const inputElement = document.getElementById(inputId);\n",
              "  inputElement.disabled = false;\n",
              "\n",
              "  const outputElement = document.getElementById(outputId);\n",
              "  outputElement.innerHTML = '';\n",
              "\n",
              "  const pickedPromise = new Promise((resolve) => {\n",
              "    inputElement.addEventListener('change', (e) => {\n",
              "      resolve(e.target.files);\n",
              "    });\n",
              "  });\n",
              "\n",
              "  const cancel = document.createElement('button');\n",
              "  inputElement.parentElement.appendChild(cancel);\n",
              "  cancel.textContent = 'Cancel upload';\n",
              "  const cancelPromise = new Promise((resolve) => {\n",
              "    cancel.onclick = () => {\n",
              "      resolve(null);\n",
              "    };\n",
              "  });\n",
              "\n",
              "  // Wait for the user to pick the files.\n",
              "  const files = yield {\n",
              "    promise: Promise.race([pickedPromise, cancelPromise]),\n",
              "    response: {\n",
              "      action: 'starting',\n",
              "    }\n",
              "  };\n",
              "\n",
              "  cancel.remove();\n",
              "\n",
              "  // Disable the input element since further picks are not allowed.\n",
              "  inputElement.disabled = true;\n",
              "\n",
              "  if (!files) {\n",
              "    return {\n",
              "      response: {\n",
              "        action: 'complete',\n",
              "      }\n",
              "    };\n",
              "  }\n",
              "\n",
              "  for (const file of files) {\n",
              "    const li = document.createElement('li');\n",
              "    li.append(span(file.name, {fontWeight: 'bold'}));\n",
              "    li.append(span(\n",
              "        `(${file.type || 'n/a'}) - ${file.size} bytes, ` +\n",
              "        `last modified: ${\n",
              "            file.lastModifiedDate ? file.lastModifiedDate.toLocaleDateString() :\n",
              "                                    'n/a'} - `));\n",
              "    const percent = span('0% done');\n",
              "    li.appendChild(percent);\n",
              "\n",
              "    outputElement.appendChild(li);\n",
              "\n",
              "    const fileDataPromise = new Promise((resolve) => {\n",
              "      const reader = new FileReader();\n",
              "      reader.onload = (e) => {\n",
              "        resolve(e.target.result);\n",
              "      };\n",
              "      reader.readAsArrayBuffer(file);\n",
              "    });\n",
              "    // Wait for the data to be ready.\n",
              "    let fileData = yield {\n",
              "      promise: fileDataPromise,\n",
              "      response: {\n",
              "        action: 'continue',\n",
              "      }\n",
              "    };\n",
              "\n",
              "    // Use a chunked sending to avoid message size limits. See b/62115660.\n",
              "    let position = 0;\n",
              "    do {\n",
              "      const length = Math.min(fileData.byteLength - position, MAX_PAYLOAD_SIZE);\n",
              "      const chunk = new Uint8Array(fileData, position, length);\n",
              "      position += length;\n",
              "\n",
              "      const base64 = btoa(String.fromCharCode.apply(null, chunk));\n",
              "      yield {\n",
              "        response: {\n",
              "          action: 'append',\n",
              "          file: file.name,\n",
              "          data: base64,\n",
              "        },\n",
              "      };\n",
              "\n",
              "      let percentDone = fileData.byteLength === 0 ?\n",
              "          100 :\n",
              "          Math.round((position / fileData.byteLength) * 100);\n",
              "      percent.textContent = `${percentDone}% done`;\n",
              "\n",
              "    } while (position < fileData.byteLength);\n",
              "  }\n",
              "\n",
              "  // All done.\n",
              "  yield {\n",
              "    response: {\n",
              "      action: 'complete',\n",
              "    }\n",
              "  };\n",
              "}\n",
              "\n",
              "scope.google = scope.google || {};\n",
              "scope.google.colab = scope.google.colab || {};\n",
              "scope.google.colab._files = {\n",
              "  _uploadFiles,\n",
              "  _uploadFilesContinue,\n",
              "};\n",
              "})(self);\n",
              "</script> "
            ]
          },
          "metadata": {}
        },
        {
          "output_type": "stream",
          "name": "stdout",
          "text": [
            "Saving costos.dat to costos.dat\n",
            "Saving demanda.dat to demanda.dat\n",
            "Saving stock.dat to stock.dat\n"
          ]
        }
      ]
    },
    {
      "cell_type": "code",
      "source": [
        "datos_costos = np.loadtxt(\"./costos.dat\")\n",
        "datos_stock = np.loadtxt(\"./stock.dat\")\n",
        "datos_demanda = np.loadtxt(\"./demanda.dat\")\n",
        "#b_ub = np.hstack([datos_stock, datos_demanda])"
      ],
      "metadata": {
        "id": "Dv3Q3BgzgTUH"
      },
      "execution_count": 33,
      "outputs": []
    },
    {
      "cell_type": "code",
      "source": [
        "display(datos_costos.shape, datos_stock.shape, datos_demanda.shape)"
      ],
      "metadata": {
        "colab": {
          "base_uri": "https://localhost:8080/",
          "height": 69
        },
        "id": "exx8rkdch4Bo",
        "outputId": "d1876f5c-54dd-42ed-ecd5-198bacf757da"
      },
      "execution_count": 34,
      "outputs": [
        {
          "output_type": "display_data",
          "data": {
            "text/plain": [
              "(100, 100)"
            ]
          },
          "metadata": {}
        },
        {
          "output_type": "display_data",
          "data": {
            "text/plain": [
              "(100,)"
            ]
          },
          "metadata": {}
        },
        {
          "output_type": "display_data",
          "data": {
            "text/plain": [
              "(100,)"
            ]
          },
          "metadata": {}
        }
      ]
    },
    {
      "cell_type": "code",
      "source": [
        "# x[0,0] --> c[0]\n",
        "# x[0,1] --> c[1]\n",
        "# x[1,1] --> c[2]\n",
        "# ...\n",
        "# x[100,100] -->c[10000] \n",
        "c = datos_costos.flatten()\n",
        "\n",
        "# b_ub\n",
        "b_ub = np.hstack([datos_stock, - datos_demanda]) \n",
        "\n",
        "# A_ub\n",
        "\n",
        "# stock\n",
        "# sum_j x_{i,j} <= s_1\n",
        "# c[0]+ c[1] + c[100]\n",
        "\n",
        "# => A_s * y <=s\n",
        "# A_s.shape = (100, 10000)\n",
        "#        1 2 ... 100 101 102 ... 200 201 ... 10000\n",
        "# 1      1 1 ... 1   0   0   ...  0   0  ... 0\n",
        "# 2      0 0 ... 0   1   1   ...  1   0  ... 0\n",
        "# ...\n",
        "# 100    0 0 ... 0   0   0   ...  0   0  ... 1\n",
        "\n",
        "A_s = np.zeros((100, 10000))\n",
        "\n",
        "for i in range(100):\n",
        "  A_s[i,(i*100):((i+1)*100)] = np.ones(100)\n",
        "\n",
        "\n",
        "# demanda\n",
        "# sum_i x_{i,1} >= d_j\n",
        "# x[1,1] + x[2,1] + ... + x[100,1] >= d_1\n",
        "# y[1]   + c[101] + ... + c[9901] >= d_1\n",
        "# => A_d * y >= d\n",
        "# A_d.shape = (100, 10000)\n",
        "#        1 2 ... 100 101 102 ... 200 201 ... 10000\n",
        "# 1      1 0 ... 0   1   0   ...  0   1  ... 0\n",
        "# 2      0 1 ... 0   0   1   ...  0   0  ... 0\n",
        "# ...\n",
        "# 100    0 0 ... 1   0   0   ...  1   0  ... 1\n",
        "A_d = np.hstack([np.eye(100) for _ in range(100)])\n",
        "\n",
        "A_ub = np.vstack([A_s, -A_d])\n",
        "\n",
        "\n",
        "sol = optimize.linprog(c, A_ub=A_ub, b_ub=b_ub )\n",
        "#sol\n",
        "sol"
      ],
      "metadata": {
        "colab": {
          "base_uri": "https://localhost:8080/"
        },
        "id": "qDtiXGnDjJyA",
        "outputId": "94b92ad9-316c-456c-820e-8227ddbe0404"
      },
      "execution_count": 41,
      "outputs": [
        {
          "output_type": "execute_result",
          "data": {
            "text/plain": [
              "     con: array([], dtype=float64)\n",
              "     fun: 25436930.496518314\n",
              " message: 'Optimization terminated successfully.'\n",
              "     nit: 16\n",
              "   slack: array([ 5.81677264e-05,  3.88165190e+02,  4.95410445e-05,  4.63975784e-05,\n",
              "        5.28855776e-05,  1.15298568e+02,  3.84824195e-05,  5.90861255e-05,\n",
              "        5.24949819e-05,  5.64052775e-05,  6.12360741e-05,  5.97868211e-05,\n",
              "        4.89710078e-05,  7.85204866e-05,  5.62826494e-05,  9.41116142e+02,\n",
              "        2.06770413e+03,  4.86821687e-05,  4.35599341e-05,  4.79953815e-05,\n",
              "        4.69809370e-05,  5.55358629e-05,  4.55977820e-05,  3.99729174e-05,\n",
              "        6.14569058e-05,  1.56813331e+03,  6.97096798e-05,  7.32743761e-05,\n",
              "        6.02900691e-05,  5.49710876e-05,  6.69093361e-05,  5.58418615e-05,\n",
              "        4.69616375e-05,  6.88591122e-05,  2.77485071e+03,  2.17805571e+03,\n",
              "        6.15315253e-05,  4.81787422e+02,  7.35231447e-05,  1.78567052e+03,\n",
              "        2.31122777e+02,  5.79009647e-05,  6.56336751e+02,  6.69676601e-05,\n",
              "        5.22008886e-05,  4.99813041e-05,  5.73943817e-05,  5.64133989e-05,\n",
              "        7.19900668e-05,  6.91499527e-05,  4.98248496e-05,  1.31444331e+02,\n",
              "        4.90185189e-05,  7.35005960e-05,  4.22226147e+02,  2.85543104e+03,\n",
              "        6.12574786e-05,  6.27668101e-05,  4.82623814e-05,  6.57547544e-05,\n",
              "        4.66858546e-05,  1.91980142e+03,  4.00482936e-05,  5.11648523e-05,\n",
              "        6.17247229e-05,  1.39070502e+03,  2.67454046e+03,  3.99323212e-05,\n",
              "        5.87974641e-05,  5.57945400e-05,  6.61176327e-05,  3.91477815e-05,\n",
              "        2.78957503e+03,  5.25003807e-05,  3.74865615e+03,  6.39446598e-05,\n",
              "        7.74270161e-05,  3.72828813e-05,  4.39443702e-05,  6.17732480e-05,\n",
              "        2.36532388e+03,  6.88232567e-05,  8.79425475e-05,  6.01004167e-05,\n",
              "        3.62826199e-05,  9.81949814e+02,  4.04838871e+02,  1.93621532e+03,\n",
              "        4.21307636e-05,  7.97162940e+02,  5.72049003e-05,  2.79889908e+03,\n",
              "        4.96680841e-05,  7.54072253e-05,  4.42905070e-05,  6.11967371e-05,\n",
              "        5.88215962e-05,  3.37367815e+03,  6.79084569e-05,  7.56732857e-05,\n",
              "       -2.47248604e-05, -2.88449125e-05, -4.68858921e-05, -3.61312750e-05,\n",
              "       -6.03400904e-05, -4.88766827e-05, -5.61925676e-05, -3.80081287e-05,\n",
              "       -4.10523276e-05, -3.57930226e-05, -5.18523989e-05, -4.23853530e-05,\n",
              "       -4.71688913e-05, -5.02166031e-05, -3.99245750e-05, -4.14934957e-05,\n",
              "       -4.44382872e-05, -5.06119668e-05, -4.43807357e-05, -4.63726451e-05,\n",
              "       -4.48385176e-05, -4.24142613e-05, -2.16093590e-05, -4.33216765e-05,\n",
              "       -4.77194158e-05, -5.17606704e-05, -4.52295831e-05, -5.16012142e-05,\n",
              "       -5.70114989e-05, -5.31637065e-05, -4.80946151e-05, -4.34232738e-05,\n",
              "       -5.14248363e-05, -3.95834345e-05, -5.21248562e-05, -4.46881304e-05,\n",
              "       -5.06106817e-05, -4.90888169e-05, -5.02823477e-05, -4.18886425e-05,\n",
              "       -4.61969225e-05, -3.98680004e-05, -4.47121834e-05, -3.77023730e-05,\n",
              "       -5.20520844e-05, -4.84740244e-05, -4.00721378e-05, -5.54773892e-05,\n",
              "       -4.45915816e-05, -2.71192682e-05, -4.55901722e-05, -4.38198358e-05,\n",
              "       -5.02237349e-05, -4.78418629e-05, -5.15069601e-05, -4.41330062e-05,\n",
              "       -4.95982736e-05, -4.30980476e-05, -5.15639967e-05, -4.70522591e-05,\n",
              "       -4.52684567e-05, -4.50571333e-05, -3.37466220e-05, -4.89541276e-05,\n",
              "       -4.05060850e-05, -5.54835019e-05, -5.23884896e-05, -3.41441912e-05,\n",
              "       -4.78126112e-05, -5.85739049e-05, -3.65714764e-05, -4.75617717e-05,\n",
              "       -4.07295729e-05, -5.20774229e-05, -5.27324692e-05, -4.50108041e-05,\n",
              "       -4.90299853e-05, -4.26479742e-05, -4.01472998e-05, -4.34387312e-05,\n",
              "       -5.39897778e-05, -4.89805966e-05, -4.66793263e-05, -5.59964378e-05,\n",
              "       -4.26390552e-05, -4.44847974e-05, -3.69376389e-05, -6.46059093e-05,\n",
              "       -5.54553590e-05, -5.11068811e-05, -5.68661258e-05, -3.52279608e-05,\n",
              "       -4.34650615e-05, -4.03480644e-05, -3.84637601e-05, -4.44128259e-05,\n",
              "       -4.83487784e-05, -5.27701718e-05, -3.45794699e-05, -5.12844795e-05])\n",
              "  status: 0\n",
              " success: True\n",
              "       x: array([7.90210749e+02, 4.11375370e-08, 5.80913483e-08, ...,\n",
              "       1.74103931e-08, 2.21677002e-08, 2.98509179e-08])"
            ]
          },
          "metadata": {},
          "execution_count": 41
        }
      ]
    },
    {
      "cell_type": "markdown",
      "source": [
        "$\\Rightarrow$ \n",
        "* i representa el deposito, \n",
        "* j representa el cliente,\n",
        "* x[i,j] representa las cantidades que se llevarian del deposito i al cliente j."
      ],
      "metadata": {
        "id": "KVvDREeIxRu8"
      }
    },
    {
      "cell_type": "code",
      "source": [
        "x = sol.x\n",
        "\n",
        "x = x.reshape(100,100)\n",
        "\n",
        "idx, idy = np.where(np.round(x))\n",
        "\n",
        "for i, j in zip(idx,idy):\n",
        "  print(i,j,x[i,j])"
      ],
      "metadata": {
        "colab": {
          "base_uri": "https://localhost:8080/"
        },
        "id": "WDXAKpGuvdUp",
        "outputId": "4561886e-949a-44bb-9e70-2cff394036d3"
      },
      "execution_count": 46,
      "outputs": [
        {
          "output_type": "stream",
          "name": "stdout",
          "text": [
            "0 0 790.2107494388056\n",
            "0 64 2213.5136315360046\n",
            "1 22 290.42580987472\n",
            "1 50 1759.4886111654528\n",
            "2 41 2180.4226002375312\n",
            "2 56 472.3729413179332\n",
            "3 26 2409.571680962833\n",
            "4 36 850.7491482562519\n",
            "4 91 1938.0820983101592\n",
            "5 19 2519.8081317148935\n",
            "6 51 2044.4348057318846\n",
            "7 98 362.7831283122287\n",
            "7 99 2775.966587102926\n",
            "8 20 547.3043829722151\n",
            "8 89 2099.0624916430884\n",
            "9 70 236.41277970544104\n",
            "9 71 2581.7099693800387\n",
            "10 53 868.7357215296342\n",
            "10 92 2368.0843083567174\n",
            "11 4 3206.4161063552233\n",
            "12 17 186.66881407643464\n",
            "12 65 2399.9433617342\n",
            "13 22 937.1535506764418\n",
            "13 35 253.41196135366735\n",
            "13 97 2853.6176661857876\n",
            "14 45 2629.509968972226\n",
            "14 49 389.74467441119396\n",
            "15 33 2165.542599397592\n",
            "16 6 260.0504045240782\n",
            "16 26 50.59211956522117\n",
            "17 1 313.6024606595924\n",
            "17 16 295.41854193251845\n",
            "17 72 1947.5375089610156\n",
            "18 53 1727.6567952778225\n",
            "18 78 440.7444100412736\n",
            "19 43 716.8105808980395\n",
            "19 78 1754.24925362326\n",
            "20 20 507.9940447074954\n",
            "20 86 2027.4082225644897\n",
            "21 27 460.5957367098751\n",
            "21 75 2448.633787713415\n",
            "22 70 1370.628703817254\n",
            "22 98 1088.326266894237\n",
            "23 31 2177.1699279704776\n",
            "24 48 2426.897131333568\n",
            "24 56 843.6649672006178\n",
            "25 65 595.129978518474\n",
            "25 73 1457.213054700468\n",
            "26 42 1195.7493847968744\n",
            "26 79 2366.6475829128376\n",
            "27 63 2654.2007160418448\n",
            "27 87 1141.6550180079478\n",
            "28 30 2609.6810617356778\n",
            "28 46 342.4371042684211\n",
            "28 52 207.98893059440178\n",
            "29 2 2546.3479002435647\n",
            "29 70 401.24731640714134\n",
            "30 24 2590.0809717799198\n",
            "30 88 969.8329092743768\n",
            "31 13 2720.2677479165523\n",
            "31 72 277.81497946009017\n",
            "32 1 131.54608205390517\n",
            "32 57 2348.9336556770463\n",
            "33 77 1539.4155748077676\n",
            "33 94 2107.1173018234995\n",
            "36 42 1237.2816050674994\n",
            "36 54 1989.7228384342836\n",
            "37 84 2325.0452641988004\n",
            "38 20 773.9990635755253\n",
            "38 74 2851.5122545127715\n",
            "39 49 1125.3922721672852\n",
            "40 28 3074.6554174547177\n",
            "41 12 456.594070024541\n",
            "41 40 2510.63186299723\n",
            "42 5 806.444408610109\n",
            "42 54 797.8573526928068\n",
            "43 27 1951.5438058561087\n",
            "43 44 1582.5624171827988\n",
            "44 17 155.23937527307842\n",
            "44 96 2622.825958372526\n",
            "45 3 715.2537709452811\n",
            "45 55 362.49301965331176\n",
            "45 56 1372.0134564831349\n",
            "46 20 610.4672157002367\n",
            "46 60 2462.160725902453\n",
            "47 17 2398.913474681612\n",
            "47 29 589.5837321320489\n",
            "48 15 1590.7911255933532\n",
            "48 90 2201.5684906886245\n",
            "49 3 1270.1830173676956\n",
            "49 37 2387.439573161021\n",
            "50 11 2311.6629608140784\n",
            "50 83 346.16808472021694\n",
            "51 39 2285.7493483394783\n",
            "51 58 809.0525359116047\n",
            "52 76 2641.789609427744\n",
            "53 29 2284.5746664625626\n",
            "54 36 1890.01307149675\n",
            "54 76 16.582193078044057\n",
            "56 73 147.53442304697117\n",
            "56 81 2655.826272970078\n",
            "57 18 2415.9531608877514\n",
            "57 73 903.5590340630607\n",
            "58 16 2123.3066275305328\n",
            "58 32 457.86699925883414\n",
            "59 12 2104.6913395621477\n",
            "59 88 1223.664089266234\n",
            "60 52 2512.5518728038974\n",
            "61 83 872.6525026418494\n",
            "62 35 2178.444483707808\n",
            "63 23 2360.376359589581\n",
            "63 27 380.3788420405429\n",
            "64 1 465.23836342766657\n",
            "64 34 2820.0365334376215\n",
            "65 0 600.0177345710019\n",
            "65 89 667.6904237284375\n",
            "67 38 1737.9185853332674\n",
            "67 68 408.96876203172064\n",
            "68 66 2833.71897557666\n",
            "68 73 309.01333812589166\n",
            "69 32 845.0478267666704\n",
            "69 61 2128.4174580826775\n",
            "70 47 2994.8054784150713\n",
            "70 85 505.9733332170955\n",
            "71 8 2024.5101534873909\n",
            "71 21 47.87527372263955\n",
            "73 6 2772.030691065435\n",
            "75 93 2205.406329134995\n",
            "75 95 1182.9940145578844\n",
            "76 14 734.0629145302917\n",
            "76 15 674.3266806325813\n",
            "76 59 2555.077668130905\n",
            "77 38 411.9652127319227\n",
            "77 69 1609.8528380128835\n",
            "78 37 274.04606005075567\n",
            "78 87 2043.5777914585985\n",
            "79 43 1350.4899002159884\n",
            "79 61 322.6541688660897\n",
            "79 69 1546.4628232757693\n",
            "80 4 42.034813336836976\n",
            "80 87 285.89795359149866\n",
            "81 50 719.3210266783562\n",
            "81 77 786.0416355219238\n",
            "81 85 1915.1651101412224\n",
            "82 14 1449.2314285288294\n",
            "82 38 573.8112063519825\n",
            "82 46 1848.5318107179796\n",
            "83 5 181.055511195102\n",
            "83 80 2917.1200754495003\n",
            "84 58 1981.5447946874274\n",
            "85 67 1184.3840535686177\n",
            "86 10 2805.5317487809943\n",
            "87 8 217.6663691300234\n",
            "88 21 2265.258491545302\n",
            "89 7 2083.272252776226\n",
            "89 31 188.6069428058912\n",
            "90 1 189.26600355331897\n",
            "90 25 2800.9397056781413\n",
            "92 68 2185.8661957415966\n",
            "92 98 453.2279169458023\n",
            "93 5 1662.557289176587\n",
            "93 88 800.0901998918529\n",
            "93 90 865.6219108947105\n",
            "94 1 505.4370554644364\n",
            "94 62 1860.779035185551\n",
            "95 55 2040.2791734075072\n",
            "95 95 1234.403805227258\n",
            "96 9 1967.8061007284134\n",
            "96 51 342.18221162603794\n",
            "96 67 697.1999831108479\n",
            "98 44 1233.6821292559623\n",
            "98 83 1803.0230022350129\n",
            "99 32 1480.4117833015832\n",
            "99 82 2535.7565676661957\n"
          ]
        }
      ]
    },
    {
      "cell_type": "code",
      "source": [],
      "metadata": {
        "colab": {
          "base_uri": "https://localhost:8080/"
        },
        "id": "R0hQqgtVwngo",
        "outputId": "db4c16dd-dc19-4069-c1eb-80dc56cd2a81"
      },
      "execution_count": 45,
      "outputs": [
        {
          "output_type": "execute_result",
          "data": {
            "text/plain": [
              "(array([ 0,  0,  1,  1,  2,  2,  3,  4,  4,  5,  6,  7,  7,  8,  8,  9,  9,\n",
              "        10, 10, 11, 12, 12, 13, 13, 13, 14, 14, 15, 16, 16, 17, 17, 17, 18,\n",
              "        18, 19, 19, 20, 20, 21, 21, 22, 22, 23, 24, 24, 25, 25, 26, 26, 27,\n",
              "        27, 28, 28, 28, 29, 29, 30, 30, 31, 31, 32, 32, 33, 33, 36, 36, 37,\n",
              "        38, 38, 39, 40, 41, 41, 42, 42, 43, 43, 44, 44, 45, 45, 45, 46, 46,\n",
              "        47, 47, 48, 48, 49, 49, 50, 50, 51, 51, 52, 53, 54, 54, 56, 56, 57,\n",
              "        57, 58, 58, 59, 59, 60, 61, 62, 63, 63, 64, 64, 65, 65, 67, 67, 68,\n",
              "        68, 69, 69, 70, 70, 71, 71, 73, 75, 75, 76, 76, 76, 77, 77, 78, 78,\n",
              "        79, 79, 79, 80, 80, 81, 81, 81, 82, 82, 82, 83, 83, 84, 85, 86, 87,\n",
              "        88, 89, 89, 90, 90, 92, 92, 93, 93, 93, 94, 94, 95, 95, 96, 96, 96,\n",
              "        98, 98, 99, 99]),\n",
              " array([ 0, 64, 22, 50, 41, 56, 26, 36, 91, 19, 51, 98, 99, 20, 89, 70, 71,\n",
              "        53, 92,  4, 17, 65, 22, 35, 97, 45, 49, 33,  6, 26,  1, 16, 72, 53,\n",
              "        78, 43, 78, 20, 86, 27, 75, 70, 98, 31, 48, 56, 65, 73, 42, 79, 63,\n",
              "        87, 30, 46, 52,  2, 70, 24, 88, 13, 72,  1, 57, 77, 94, 42, 54, 84,\n",
              "        20, 74, 49, 28, 12, 40,  5, 54, 27, 44, 17, 96,  3, 55, 56, 20, 60,\n",
              "        17, 29, 15, 90,  3, 37, 11, 83, 39, 58, 76, 29, 36, 76, 73, 81, 18,\n",
              "        73, 16, 32, 12, 88, 52, 83, 35, 23, 27,  1, 34,  0, 89, 38, 68, 66,\n",
              "        73, 32, 61, 47, 85,  8, 21,  6, 93, 95, 14, 15, 59, 38, 69, 37, 87,\n",
              "        43, 61, 69,  4, 87, 50, 77, 85, 14, 38, 46,  5, 80, 58, 67, 10,  8,\n",
              "        21,  7, 31,  1, 25, 68, 98,  5, 88, 90,  1, 62, 55, 95,  9, 51, 67,\n",
              "        44, 83, 32, 82]))"
            ]
          },
          "metadata": {},
          "execution_count": 45
        }
      ]
    },
    {
      "cell_type": "code",
      "source": [],
      "metadata": {
        "id": "w0Em53N4wli4"
      },
      "execution_count": null,
      "outputs": []
    }
  ]
}